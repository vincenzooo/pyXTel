{
 "cells": [
  {
   "cell_type": "code",
   "execution_count": null,
   "metadata": {},
   "outputs": [],
   "source": [
    "#| hide\n",
    "from pyXsurf.core import *"
   ]
  },
  {
   "cell_type": "markdown",
   "metadata": {},
   "source": [
    "# pyXsurf\n",
    "\n",
    "> Python library for X-Ray Optics, Metrology Data Analysis and Telescopes\n",
    "Design. "
   ]
  },
  {
   "cell_type": "markdown",
   "metadata": {},
   "source": [
    "## Changes\n",
    "\n",
    "2022/09/06 Experimentally moved to nbdev\n",
    "2021/07/21 Upgraded installation mechanism.\n",
    "2020/11/09 Changed repository name from ``pyXTel`` to ``pyXSurf``."
   ]
  },
  {
   "cell_type": "markdown",
   "metadata": {},
   "source": [
    "## Installation"
   ]
  },
  {
   "cell_type": "markdown",
   "metadata": {},
   "source": [
    "Download or clone the project. You can use git clone command by:\n",
    "\n",
    "```sh\n",
    "git clone https://github.com/vincenzooo/pyXSurf.git\n",
    "```\n",
    "\n",
    "or the ``download`` button at top of page.\n",
    "\n",
    "At this point you have two options:\n",
    "\n",
    "1. Python installer (suggested): move to the folder with the code and call\n",
    "\n",
    "```sh\n",
    "python setup.py install\n",
    "```\n",
    ".\n",
    "\n",
    "2. Developer:\n",
    "\n",
    "```sh\n",
    "pip install -e '.[dev]'\n",
    "```\n",
    "\n",
    "Developers branches can be installed in the same way and they should work equally (just have more unfinished stuff), so the only thing you need to do differently, is to switch branch, e.g. ``git checkout documentation`` (where ``documentation`` is the name of the branch) before running the setup. Also, if you plan to make changes to the code and want to avoid reinstalling every time for them to became effective, you can install the code in \"developer mode\" (as at point 1, but using command ``python setup.py develop`` instead of ``install``). Please check developers notes for a list of active branches and their features and for more details."
   ]
  },
  {
   "cell_type": "markdown",
   "metadata": {},
   "source": [
    "## How to use"
   ]
  },
  {
   "cell_type": "markdown",
   "metadata": {},
   "source": [
    "You can test a succesful installation with:"
   ]
  },
  {
   "cell_type": "markdown",
   "metadata": {},
   "source": [
    "```python \n",
    "from pysXsurf.data2D import data2D\n",
    "```"
   ]
  },
  {
   "cell_type": "code",
   "execution_count": null,
   "metadata": {},
   "outputs": [],
   "source": []
  }
 ],
 "metadata": {
  "kernelspec": {
   "display_name": "Python 3 (ipykernel)",
   "language": "python",
   "name": "python3"
  },
  "language_info": {
   "codemirror_mode": {
    "name": "ipython",
    "version": 3
   },
   "file_extension": ".py",
   "mimetype": "text/x-python",
   "name": "python",
   "nbconvert_exporter": "python",
   "pygments_lexer": "ipython3",
   "version": "3.9.12"
  }
 },
 "nbformat": 4,
 "nbformat_minor": 4
}
