{
 "cells": [
  {
   "cell_type": "code",
   "execution_count": 2,
   "metadata": {},
   "outputs": [],
   "source": [
    "#| hide\n",
    "from pyXsurf.core import *"
   ]
  },
  {
   "cell_type": "markdown",
   "metadata": {},
   "source": [
    "# pyXsurf\n",
    "\n",
    "> Python library for X-Ray Optics, Metrology Data Analysis and Telescopes\n",
    "Design. "
   ]
  },
  {
   "cell_type": "markdown",
   "metadata": {},
   "source": [
    "## Changes\n",
    "\n",
    "2022/09/06 Created new branch `pyXsurf_nbdev` for experimenting with nbdev under WSL. \n",
    "2021/07/21 Upgraded installation mechanism.\n",
    "2020/11/09 Changed repository name from ``pyXTel`` to ``pyXSurf``."
   ]
  },
  {
   "cell_type": "markdown",
   "metadata": {},
   "source": [
    "## Installation"
   ]
  },
  {
   "cell_type": "markdown",
   "metadata": {},
   "source": [
    "Download or clone the project. You can use git clone command by:\n",
    "``git clone https://github.com/vincenzooo/pyXSurf.git`` or the button\n",
    "``download`` at top of page. It can be advisable to update your environment, and especially ``pip`` to the most recent version.\n",
    "At this point you have two options:\n",
    "\n",
    "1. Python installer (suggested): move to the folder with the code and call\n",
    "``python setup.py install``. This will perform a \"regular\" installation (meaning that the \n",
    "code is copied to ``site-packages`` folders, which holds all installed Python libraries) and \n",
    "made accessible to your system.\n",
    "\n",
    "2. Manual (developer): as in option 1, just use ``pip install -e .``.\n",
    "Doing this, the library will be installed from current position (no local copy), any change to the original code will be immediately\n",
    "available in the imported library.\n",
    "\n",
    "Code can be uninstalled in same way with ``pip uninstall pyXsurf``, or calling directly the setup file ``python setup.py develop  -u`` (uninstalling developer installation is expected to work only with most recent pip versions, at least >=19.1.1)).\n",
    "\n",
    "There are developer branches on github, which have extra functionalities at the moment under development (they are quite messy, so feel free to ask if you are looking for something in particular). These can be installed in the same way and should work equally (just have more unfinished stuff). For git beginners, the only thing you need to do differently, is to switch branch, e.g. ``git checkout documentation`` (where ``documentation`` is the name of the branch) before running the setup. Please check developers notes for a list of active branches and their features and for more details. Also, if you plan to make changes to the code and want to keep the changes automatically in synch, remember to install the code in \"developer mode\" (as explained above)."
   ]
  },
  {
   "cell_type": "markdown",
   "metadata": {},
   "source": [
    "## How to use\n",
    "\n",
    "At this point you can open Python and try ``import pySurf``, if this works without errors, you can go to the tutorials section."
   ]
  },
  {
   "cell_type": "markdown",
   "metadata": {},
   "source": [
    "You can test a succesful installation with:\n",
    "\n",
    "```python \n",
    "from pysXsurf.data2D import data2D\n",
    "```\n",
    "\n",
    "running single .py files usually run small test scripts at the end of the module."
   ]
  },
  {
   "cell_type": "markdown",
   "metadata": {},
   "source": [
    "## Status of the library\n",
    "\n",
    "The main part of the library is well defined and it works well. I am\n",
    "constantly adding functions when I find they are needed during my daily\n",
    "work. \n",
    "\n",
    "I have tried the installation on a few computers and it worked smoothly by `setup.py`. You are very welcome to help signaling any problem or missing information, please see :ref:`Contributing` below.\n",
    "\n",
    "If everything worked well with the installation, there\n",
    "are a decent number of tutorial and examples, but they are quite scattered around in\n",
    "folders ``Demo``, ``Tutorial``, ``Test``, etc. \n",
    "\n",
    "You should be able to access information by usual python introspection (``?``, ``??``, autocompletion, etc.).\n",
    "\n",
    "See developer notes :ref:`developersnotes` for a detailed status of developement, how to access more recent features and last status of documentation (on developer brach), especially if you think you can help.\n",
    "Expecially installation and release mechanism, are in phase of improvement, as well as documentation.\n"
   ]
  },
  {
   "cell_type": "markdown",
   "metadata": {},
   "source": [
    "## Contributing\n",
    "\n",
    "Please report bugs or feature requests, missing documentation, or open a issue on github https://github.com/vincenzooo/pyXsurf/issues.\n",
    "\n",
    "Expecially appreciated is if you can provide templates, examples or hints on how to handle, documentation (Sphinx), packaging, continuous integration (Github).\n",
    "\n",
    "Please check :ref:`README_developers` for the status of the development, or if are willing to help in any way. \n"
   ]
  },
  {
   "cell_type": "markdown",
   "metadata": {},
   "source": [
    "## Modules\n",
    "\n",
    "A basic description of the different modules is: \n",
    "\n",
    "* **dataIO** Generic routines for accessing and manipulating data and files. \n",
    "\n",
    "* **notebooks**  Jupyter notebooks, not necessarily related to the libraries, include test and experiments on python. \n",
    "\n",
    "* **plotting** Plotting functions for pySurf data. \n",
    "\n",
    "* **pyGeo3D** Functions for geometry in space (lines and planes). \n",
    "\n",
    "* **pyProfile** Equivalent of pySurf acting on Profiles. \n",
    "\n",
    "* **pySurf** Functions and classes acting on 3D points or surfaces. \n",
    "\n",
    "* **thermal** Functions for modelling of thermal forming of glass.\n",
    "\n",
    "Some examples and data can be found in a ``test`` subfolder of each\n",
    "module.\n",
    "\n",
    "## Citation\n",
    "\n",
    ".. image:: https://zenodo.org/badge/165474659.svg\n",
    "   :target: https://zenodo.org/badge/latestdoi/165474659\n",
    "\n",
    "## License\n",
    "\n",
    "This project is Copyright (c) Vincenzo Cotroneo and licensed under\n",
    "the terms of the BSD 3-Clause license. Parts of this package are based upon\n",
    "the `Astropy package template <https://github.com/astropy/package-template>`_\n",
    "which is licensed under the BSD 3-clause license. See the licenses folder for\n",
    "more information.\n",
    "\n",
    "\n",
    "## Author\n",
    "\n",
    "Vincenzo Cotroneo vincenzo.cotroneo@inaf.it"
   ]
  },
  {
   "cell_type": "code",
   "execution_count": null,
   "metadata": {},
   "outputs": [],
   "source": [
    "#| hide\n",
    "import nbdev; nbdev.nbdev_export()"
   ]
  },
  {
   "cell_type": "code",
   "execution_count": null,
   "metadata": {},
   "outputs": [],
   "source": []
  }
 ],
 "metadata": {
  "kernelspec": {
   "display_name": "Python 3 (ipykernel)",
   "language": "python",
   "name": "python3"
  },
  "language_info": {
   "codemirror_mode": {
    "name": "ipython",
    "version": 3
   },
   "file_extension": ".py",
   "mimetype": "text/x-python",
   "name": "python",
   "nbconvert_exporter": "python",
   "pygments_lexer": "ipython3",
   "version": "3.9.12"
  }
 },
 "nbformat": 4,
 "nbformat_minor": 4
}
