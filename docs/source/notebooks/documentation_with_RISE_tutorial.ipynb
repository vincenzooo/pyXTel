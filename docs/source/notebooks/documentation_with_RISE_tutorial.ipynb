{
 "cells": [
  {
   "cell_type": "markdown",
   "metadata": {},
   "source": [
    "## Workflow for RISE presentation from Jupyter notebook\n",
    "\n",
    "VScode doesn't allow preview (to my knowledge), so it is necessary to convert the notebook to html and slides.\n",
    "\n",
    "### Test local\n",
    "\n",
    "\n",
    "with VScode (no preview)\n",
    "\n",
    "visualize html and html_slides. \n",
    "with anaconda (env ``develop``) \n",
    "\n",
    "\n",
    "```console\n",
    "$ echo \"Hello, World!\"\n",
    "Hello, World!\n",
    "```\n",
    "\n",
    "\n",
    "### Test on web\n",
    "\n",
    "    jupyter nbconvert <my_notebook.ipynb> --to html\n",
    "\n",
    "### pdf"
   ]
  },
  {
   "cell_type": "markdown",
   "metadata": {},
   "source": [
    "Adviced Jupyter Lab, allows preview if extension installed."
   ]
  },
  {
   "cell_type": "markdown",
   "metadata": {},
   "source": [
    "### Update ReadTheDocs from local changes\n",
    "\n",
    "Typical sequence of git commands to an update to documentation (overwrites and replaces all past changes with new):\n",
    "\n",
    "    693  git status\n",
    "    694  git add -A\n",
    "    695  git commit --amend\n",
    "    696  git push -f origin master\n",
    "    697  git status\n",
    "\n",
    "The above assumes single user on github, as the online history is modified and can create conflict in case of cuncurrent changes. A safer way, and a way to keep a record to current version is to replace the commit with:\n",
    "\n",
    "    695  git commit -m \"small changes to docs\"\n",
    "  \n",
    "Which will create a new commit point without overwriting the previous one (but also a long line of commits).\n",
    "\n",
    "### Tagging on Git\n",
    "\n",
    "From https://git-scm.com/book/en/v2/Git-Basics-Tagging the current commit can be tagged with (see page for tagging past commits):\n",
    "\n",
    "    $ git tag -a v1.4 -m \"my version 1.4\"\n",
    "\n",
    "Tags are not pushed on github, need to manually call:\n",
    "    \n",
    "    $ git push origin <tagname>\n"
   ]
  },
  {
   "cell_type": "code",
   "execution_count": null,
   "metadata": {},
   "outputs": [],
   "source": [
    "# 2023/11/22 Template/Experiment for a guide to docs development.\n"
   ]
  },
  {
   "cell_type": "markdown",
   "metadata": {},
   "source": [
    "# Installation and dependencies\n",
    "\n",
    "Virtual environments in conda:\n",
    "\n",
    "https://www.geeksforgeeks.org/set-up-virtual-environment-for-python-using-anaconda/\n",
    "\n"
   ]
  },
  {
   "cell_type": "markdown",
   "metadata": {},
   "source": [
    "It might (or not) be useful to manually install or update (`conda update <package>`) the following packages:\n",
    "\n",
    "    conda install myst-parser\n",
    "    conda install sphinx-notfound-page\n",
    "    conda install sphinx_gallery\n",
    "    conda install sphinx-automodapi\n"
   ]
  },
  {
   "cell_type": "markdown",
   "metadata": {},
   "source": [
    "Jupyter extensions https://rise.readthedocs.io/en/latest/customize.html, the second will activate the extensions:\n",
    "\n",
    "    >conda install -c conda-forge jupyter_contrib_nbextensions\n",
    "    >jupyter contrib nbextension install\n",
    "\n",
    "To implement in jupyter lab (will be default), additional steps are required."
   ]
  },
  {
   "cell_type": "markdown",
   "metadata": {},
   "source": [
    "## Install RISE\n",
    "\n",
    "\n",
    "To install RISE (https://github.com/jupyterlab-contrib/rise):\n",
    "\n",
    "    >conda install -c conda-forge rise\n",
    "\n",
    "or: \n",
    "\n",
    "    >pip install rise\n",
    "\n",
    "\n",
    "## Usage\n",
    "\n",
    "Good starting point and comprehensive description of RISE functionalities:\n",
    "\n",
    "https://www.edlitera.com/blog/posts/rise-presentations-jupyter#mcetoc_1gjueam13i\n",
    "\n",
    "\n"
   ]
  },
  {
   "cell_type": "markdown",
   "metadata": {},
   "source": [
    "## Customization\n",
    "\n",
    "### Embedded Functionalities: \n",
    "https://rise.readthedocs.io/en/latest/customize.html\n",
    "\n",
    "### Advanced customization with CSS:\n",
    "\n",
    "To load a custom CSS file for RISE, you need to follow these steps:\n",
    "\n",
    "Create an empty rise.css file in the profile_whatever directory at installation time. If you don’t have a profile, just add it to profile_default.\n",
    "Load rise.css in main.js next to the other CSS files. You can find main.js in the livereveal directory under your Jupyter installation path.\n",
    "Make the enable_custom_css a config option through the ConfigManager to load rise.css by default. You can also set this option to false if you want to disable the custom CSS.\n",
    "You can find more details and examples on how to add custom CSS for RISE in this GitHub issue.\n",
    "\n",
    "### Custom CSS examples\n",
    "\n",
    "https://rise.thesketchcode.com/documentation/custom_css/\n",
    "\n",
    "Themes:\n",
    "https://revealjs-themes.dzello.com/#/\n",
    "\n",
    ".. tried, works on colors, no idea how to put headers. Coloured frame doesn't work.\n",
    ".. different theme in notebook preview.\n"
   ]
  },
  {
   "cell_type": "markdown",
   "metadata": {},
   "source": [
    "`rise` dependencies may be needed:\n",
    "\n",
    "    conda install -c tejzpr npm\n",
    "    conda install -c conda-forge nodejs\n",
    "\n",
    "A copy of a minimal environment is TODO 🛠️"
   ]
  },
  {
   "cell_type": "markdown",
   "metadata": {},
   "source": [
    "# Writing docs"
   ]
  },
  {
   "cell_type": "markdown",
   "metadata": {},
   "source": [
    "Note that rst sections are interpreted as sections in markdown cells (e.g. this cell):\n",
    "\n",
    "Section\n",
    "--------\n",
    "\n",
    "According to https://jupyterbook.org/en/stable/file-types/restructuredtext.html, to include rst in markdown:\n",
    "\n",
    "```{eval-rst}\n",
    ".. note::\n",
    "\n",
    "   A note written in reStructuredText.\n",
    "\n",
    ".. include:: ./include-rst.rst\n",
    "\n",
    "\n",
    "\n"
   ]
  },
  {
   "cell_type": "markdown",
   "metadata": {},
   "source": [
    "\n",
    "\n",
    "\n"
   ]
  },
  {
   "cell_type": "markdown",
   "metadata": {},
   "source": []
  },
  {
   "cell_type": "code",
   "execution_count": null,
   "metadata": {},
   "outputs": [],
   "source": []
  },
  {
   "cell_type": "markdown",
   "metadata": {},
   "source": []
  }
 ],
 "metadata": {
  "language_info": {
   "name": "python"
  }
 },
 "nbformat": 4,
 "nbformat_minor": 2
}
